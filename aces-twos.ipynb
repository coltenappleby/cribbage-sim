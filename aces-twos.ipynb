{
 "cells": [
  {
   "cell_type": "code",
   "execution_count": null,
   "metadata": {},
   "outputs": [
    {
     "ename": "",
     "evalue": "",
     "output_type": "error",
     "traceback": [
      "\u001b[1;31mRunning cells with 'Python 3.10.6 64-bit' requires ipykernel package.\n",
      "\u001b[1;31mRun the following command to install 'ipykernel' into the Python environment. \n",
      "\u001b[1;31mCommand: '\"c:/Program Files/WindowsApps/PythonSoftwareFoundation.Python.3.10_3.10.1776.0_x64__qbz5n2kfra8p0/python3.10.exe\" -m pip install ipykernel -U --user --force-reinstall'"
     ]
    }
   ],
   "source": [
    "#hand = ['A', 'A', '2', '2', 'K', '4' ]"
   ]
  },
  {
   "cell_type": "code",
   "execution_count": null,
   "metadata": {},
   "outputs": [
    {
     "ename": "",
     "evalue": "",
     "output_type": "error",
     "traceback": [
      "\u001b[1;31mRunning cells with 'Python 3.10.6 64-bit' requires ipykernel package.\n",
      "\u001b[1;31mRun the following command to install 'ipykernel' into the Python environment. \n",
      "\u001b[1;31mCommand: '\"c:/Program Files/WindowsApps/PythonSoftwareFoundation.Python.3.10_3.10.1776.0_x64__qbz5n2kfra8p0/python3.10.exe\" -m pip install ipykernel -U --user --force-reinstall'"
     ]
    }
   ],
   "source": [
    "#From \n",
    "\n",
    "cards = [\"Ace\", \"Two\", \"Three\", \"Four\", \"Five\", \"Six\", \"Seven\", \"Eight\", \"Nine\", \"Ten\", \"Jack\", \"Queen\", \"King\"]\n",
    "\n",
    "deck = []\n",
    "\n",
    "suits = [\"Spades\", \"Diamonds\", \"Clubs\", \"Hearts\"]\n",
    "suit = 0\n",
    "for card in range(52):\n",
    "    if card >= 13 * (suit + 1):\n",
    "        suit += 1\n",
    "    deck.append(str(cards[card % 13] + \"|\" + suits[suit]))\n",
    "\n",
    "print(deck)"
   ]
  },
  {
   "cell_type": "code",
   "execution_count": null,
   "metadata": {},
   "outputs": [],
   "source": [
    "deck2 = {}\n",
    "\n",
    "#\n",
    "# convert cards to a dictionary with 4 cards each\n",
    "#\n",
    "\n",
    "def removeHandFromDeck(hand):\n",
    "    for card in hand:\n",
    "        deck.update(card, deck.get(card)-1)\n",
    "\n",
    "\n"
   ]
  },
  {
   "cell_type": "code",
   "execution_count": null,
   "metadata": {},
   "outputs": [],
   "source": [
    "def simulateDraw(hand, deck):\n",
    "    cards = [\"Ace\", \"Two\", \"Three\", \"Four\", \"Five\", \"Six\", \"Seven\", \"Eight\", \"Nine\", \"Ten\", \"Jack\", \"Queen\", \"King\"]\n",
    "    c = randint(0, len(cards))\n",
    "    if deck.get(cards[2]) > 0:\n",
    "        deck.update(cards[2], deck.get(cards[2])-1)\n",
    "        return deck.get(cards[2])\n",
    "    else:\n",
    "        return simulateDraw(hand, deck)\n",
    "        "
   ]
  },
  {
   "cell_type": "code",
   "execution_count": null,
   "metadata": {},
   "outputs": [],
   "source": [
    "# Monte Carlo\n",
    "\n"
   ]
  }
 ],
 "metadata": {
  "kernelspec": {
   "display_name": "Python 3.10.6 ('freecodecamp-3ld-QlAz')",
   "language": "python",
   "name": "python3"
  },
  "language_info": {
   "name": "python",
   "version": "3.10.6"
  },
  "orig_nbformat": 4,
  "vscode": {
   "interpreter": {
    "hash": "a7e1f3680a88200ed0221271c10f052339d22d5435fe7a243b56b1c991fc0b10"
   }
  }
 },
 "nbformat": 4,
 "nbformat_minor": 2
}
